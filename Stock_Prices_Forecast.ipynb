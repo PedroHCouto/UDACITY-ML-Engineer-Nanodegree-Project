{
 "metadata": {
  "language_info": {
   "codemirror_mode": {
    "name": "ipython",
    "version": 3
   },
   "file_extension": ".py",
   "mimetype": "text/x-python",
   "name": "python",
   "nbconvert_exporter": "python",
   "pygments_lexer": "ipython3",
   "version": "3.8.5-final"
  },
  "orig_nbformat": 2,
  "kernelspec": {
   "name": "python3",
   "display_name": "Python 3",
   "language": "python"
  }
 },
 "nbformat": 4,
 "nbformat_minor": 2,
 "cells": [
  {
   "source": [
    "# Stock Price Prediction for the 5 Biggest Brazilian Commodity-Base Companies  \n",
    "\n",
    "<figure>\n",
    "<img src=\"./images/image_1.jpg\" style = \"width:1100px; height:300px\">\n",
    "<figure/>\n",
    "\n",
    "## 1. Overview\n",
    "### 1.1. Motivation\n",
    "The stock price market might seems chaotic at a first glance. There is a lot of information that must be taken into account in order to decide whether to buy or not a stock. Some say that the Fundamental Analysis\\[1] is the right way to decide whether or not to buy a stock, and some say that the Technical Analysis\\[2].\n",
    "\n",
    "Based on this lack of convergence about which method should be used, and once that we can find a giant amount of data, a data science project could be a nice fit to predict the behaviour of the prices in the next day. Therefore we could use these predictions to guide the decisions.\n",
    "\n",
    "Nowadays, besides corona crises, the markets of the USA are on their historic maximum. This fact means that there is not so much place to find a share of business with good profits possibilities. Therefore, when we would like to have a bigger profit, we must take more risk and investments that fit this profile are those in emergent markets, like Brazil, India, China, etc. I’m a chemical engineer from Brazil and to use data science to understand the market behaviour for the next weeks are a topic that interests me a lot and can bring my education, my experience living here and my data science skills together.\n",
    "\n",
    "As we know, the commodity is an economic good that is often used as input the production of other goods or services. These goods have full or substantial fungibility, that is, they can be treated as equivalent (or nearly) regardless of who produced them. Some examples are coffee, gold ore, iron ore, oil, water, electric power, etc. Brazil is a land that has a commodity-based economy\\[3] and to be able to predict the share prices of business that work in some level with commodities, cold be an excellent opportunity for discovering bad and good calls.\n",
    "\n",
    "Besides that, nowadays there are lots of discussions about a commodity rally in 2021\\[4]\\[5]\\[6]\\[7]. That means, understanding the future of these goods and being able the share price of the companies or even the commodity itself like gold or silver, are key points to have success investing in Brazil.\n",
    "\n",
    "So let’s dive in the Brazilian Stock Prices of commodity-based companies, explore them and predict its prices! \n",
    "\n",
    "\n",
    "### 1.2. Problem Statement\n",
    "As mention above, our interest lay on the future share price of commodity-based companies. It gets even more dramatic with 2021 bringing the potential for a commodity rally. To predict those stock prices are a big prize.\n",
    "**Based on this, we can define that our problem is to analyse the 5 biggest commodity-based companies in Brazil in order to understand their behaviour and relationships as well to get a deeper understanding about what we are going to predict. Then, an algorithm as well its pipeline will be designed and implemented in order to predict the prices for the future.** \n",
    "\n",
    "\n",
    "### 1.3. Data and Inputs  \n",
    "The data will be gathered using the Yahoo! Finance API. A great tutorial (unfortunately only in Portuguese) can be found in this [medium post](https://medium.com/@rodrigobercinimartins/como-extrair-dados-da-bovespa-sem-gastar-nada-com-python-14a03454a720). The library yahooquery gives us all tools to colect the data as we want.  \n",
    "\n",
    "We will gather data of the 5 biggest commodity-based companies in Brazil, that are:\n",
    "- Petrobras (PETR4): largest Brazilian company, Petrobras produces oil;\n",
    "- Vale (VALE3): the company is among the largest companies in Brazil, and is the largest producer of iron ore in the world;\n",
    "- CSN (CSNA3): it is the largest steel industry in Brazil and Latin America, and one of the largest in the world;\n",
    "- JBS (JBSS3): the company is one of the largest producers of animal protein in the world;\n",
    "- Suzano (SUZB3): the company is considered the largest producer of eucalyptus pulp of the world;\n",
    "\n",
    "The data will be divided into 7 features for each day: lowest, highest, open, closed and adjusted close price, as well as volume and ticker.\n",
    "\n",
    "### 1.4. General Outline   \n",
    "    a. Loading and Creating the data;  \n",
    "       a.1. Loading the data from Yahoo;\n",
    "\n",
    "\n"
   ],
   "cell_type": "markdown",
   "metadata": {}
  },
  {
   "cell_type": "code",
   "execution_count": 9,
   "metadata": {},
   "outputs": [],
   "source": [
    "# loading packages and utilities\n",
    "import numpy as np\n",
    "import pandas as pd\n",
    "import tensorflow as tf\n",
    "import datetime\n",
    "\n",
    "from tensorflow import keras\n",
    "from yahooquery import Ticker\n"
   ]
  },
  {
   "cell_type": "code",
   "execution_count": 230,
   "metadata": {},
   "outputs": [],
   "source": [
    "def gather_stocks(company_name_list, start = '2007-01-01', end = datetime.date.today()):\n",
    "    \"\"\"get the name of the companies, as well as the start and end date, check if they are with the\n",
    "    \".SA\" ending and create a dataframe.\n",
    "    \"\"\"\n",
    "    def name_check(name):\n",
    "        if name[-2:] != \"SA\":\n",
    "            name = name + \".SA\"\n",
    "        return name\n",
    "    company_name_list = list(map(name_check, company_name_list))\n",
    "\n",
    "    df = pd.DataFrame(Ticker(comp).history(start = start, end = end)).reset_index()\n",
    "    return df\n"
   ]
  },
  {
   "source": [
    "### a.1. Loading the data through Yahoo API"
   ],
   "cell_type": "markdown",
   "metadata": {}
  },
  {
   "cell_type": "code",
   "execution_count": 244,
   "metadata": {},
   "outputs": [],
   "source": [
    "# listing the companies and gathering the data\n",
    "companies = [\"PETR4.SA\", \"VALE3.SA\", \"CSNA3.SA\", \"JBSS3.SA\", \"SUZB3.SA\"]\n",
    "start_date = '2007-01-01' #one year before the comodities rally in Brasil\n",
    "end_date = datetime.date.today() #today\n",
    "df = gather_stocks(companies, start = start_date, end = end_date)"
   ]
  },
  {
   "cell_type": "code",
   "execution_count": 248,
   "metadata": {},
   "outputs": [
    {
     "output_type": "execute_result",
     "data": {
      "text/plain": [
       "     symbol        date       high   close   open      volume        low  \\\n",
       "0  PETR4.SA  2007-01-02  25.225000  25.160  25.00  10244800.0  24.879999   \n",
       "1  PETR4.SA  2007-01-03  25.200001  24.395  25.08  19898600.0  24.004999   \n",
       "2  PETR4.SA  2007-01-04  24.375000  23.850  24.25  21060200.0  23.700001   \n",
       "3  PETR4.SA  2007-01-05  23.995001  23.125  23.60  24864000.0  22.549999   \n",
       "4  PETR4.SA  2007-01-08  23.570000  23.395  23.25  19440200.0  22.900000   \n",
       "\n",
       "    adjclose  dividends  splits  \n",
       "0  18.318081      0.225     0.0  \n",
       "1  17.761106      0.000     0.0  \n",
       "2  17.364315      0.000     0.0  \n",
       "3  16.836473      0.000     0.0  \n",
       "4  17.033047      0.000     0.0  "
      ],
      "text/html": "<div>\n<style scoped>\n    .dataframe tbody tr th:only-of-type {\n        vertical-align: middle;\n    }\n\n    .dataframe tbody tr th {\n        vertical-align: top;\n    }\n\n    .dataframe thead th {\n        text-align: right;\n    }\n</style>\n<table border=\"1\" class=\"dataframe\">\n  <thead>\n    <tr style=\"text-align: right;\">\n      <th></th>\n      <th>symbol</th>\n      <th>date</th>\n      <th>high</th>\n      <th>close</th>\n      <th>open</th>\n      <th>volume</th>\n      <th>low</th>\n      <th>adjclose</th>\n      <th>dividends</th>\n      <th>splits</th>\n    </tr>\n  </thead>\n  <tbody>\n    <tr>\n      <th>0</th>\n      <td>PETR4.SA</td>\n      <td>2007-01-02</td>\n      <td>25.225000</td>\n      <td>25.160</td>\n      <td>25.00</td>\n      <td>10244800.0</td>\n      <td>24.879999</td>\n      <td>18.318081</td>\n      <td>0.225</td>\n      <td>0.0</td>\n    </tr>\n    <tr>\n      <th>1</th>\n      <td>PETR4.SA</td>\n      <td>2007-01-03</td>\n      <td>25.200001</td>\n      <td>24.395</td>\n      <td>25.08</td>\n      <td>19898600.0</td>\n      <td>24.004999</td>\n      <td>17.761106</td>\n      <td>0.000</td>\n      <td>0.0</td>\n    </tr>\n    <tr>\n      <th>2</th>\n      <td>PETR4.SA</td>\n      <td>2007-01-04</td>\n      <td>24.375000</td>\n      <td>23.850</td>\n      <td>24.25</td>\n      <td>21060200.0</td>\n      <td>23.700001</td>\n      <td>17.364315</td>\n      <td>0.000</td>\n      <td>0.0</td>\n    </tr>\n    <tr>\n      <th>3</th>\n      <td>PETR4.SA</td>\n      <td>2007-01-05</td>\n      <td>23.995001</td>\n      <td>23.125</td>\n      <td>23.60</td>\n      <td>24864000.0</td>\n      <td>22.549999</td>\n      <td>16.836473</td>\n      <td>0.000</td>\n      <td>0.0</td>\n    </tr>\n    <tr>\n      <th>4</th>\n      <td>PETR4.SA</td>\n      <td>2007-01-08</td>\n      <td>23.570000</td>\n      <td>23.395</td>\n      <td>23.25</td>\n      <td>19440200.0</td>\n      <td>22.900000</td>\n      <td>17.033047</td>\n      <td>0.000</td>\n      <td>0.0</td>\n    </tr>\n  </tbody>\n</table>\n</div>"
     },
     "metadata": {},
     "execution_count": 248
    }
   ],
   "source": [
    "df.head()"
   ]
  },
  {
   "cell_type": "code",
   "execution_count": 245,
   "metadata": {},
   "outputs": [
    {
     "output_type": "execute_result",
     "data": {
      "text/plain": [
       "symbol       0\n",
       "date         0\n",
       "high         0\n",
       "close        0\n",
       "open         0\n",
       "volume       0\n",
       "low          0\n",
       "adjclose     0\n",
       "dividends    0\n",
       "splits       0\n",
       "dtype: int64"
      ]
     },
     "metadata": {},
     "execution_count": 245
    }
   ],
   "source": [
    "# checkig for missing values\n",
    "df.isnull().sum()"
   ]
  },
  {
   "cell_type": "code",
   "execution_count": 246,
   "metadata": {},
   "outputs": [
    {
     "output_type": "stream",
     "name": "stdout",
     "text": [
      "<class 'pandas.core.frame.DataFrame'>\nRangeIndex: 17263 entries, 0 to 17262\nData columns (total 10 columns):\n #   Column     Non-Null Count  Dtype  \n---  ------     --------------  -----  \n 0   symbol     17263 non-null  object \n 1   date       17263 non-null  object \n 2   high       17263 non-null  float64\n 3   close      17263 non-null  float64\n 4   open       17263 non-null  float64\n 5   volume     17263 non-null  float64\n 6   low        17263 non-null  float64\n 7   adjclose   17263 non-null  float64\n 8   dividends  17263 non-null  float64\n 9   splits     17263 non-null  float64\ndtypes: float64(8), object(2)\nmemory usage: 1.3+ MB\n"
     ]
    }
   ],
   "source": [
    "# checking the infos of the dataset\n",
    "df.info()"
   ]
  },
  {
   "cell_type": "code",
   "execution_count": 247,
   "metadata": {},
   "outputs": [
    {
     "output_type": "execute_result",
     "data": {
      "text/plain": [
       "(3496,)"
      ]
     },
     "metadata": {},
     "execution_count": 247
    }
   ],
   "source": [
    "df.date.unique().shape"
   ]
  },
  {
   "source": [
    "There are 3496 instances for each company. As we will work with 5 companies, there are in total 17263 instances for each of the 7 columns and no missing values."
   ],
   "cell_type": "markdown",
   "metadata": {}
  },
  {
   "cell_type": "code",
   "execution_count": null,
   "metadata": {},
   "outputs": [],
   "source": []
  }
 ]
}