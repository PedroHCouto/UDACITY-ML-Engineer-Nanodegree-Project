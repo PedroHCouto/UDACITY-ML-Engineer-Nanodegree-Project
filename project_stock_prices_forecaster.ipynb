{
 "metadata": {
  "language_info": {
   "codemirror_mode": {
    "name": "ipython",
    "version": 3
   },
   "file_extension": ".py",
   "mimetype": "text/x-python",
   "name": "python",
   "nbconvert_exporter": "python",
   "pygments_lexer": "ipython3",
   "version": "3.8.5-final"
  },
  "orig_nbformat": 2,
  "kernelspec": {
   "name": "python3",
   "display_name": "Python 3",
   "language": "python"
  }
 },
 "nbformat": 4,
 "nbformat_minor": 2,
 "cells": [
  {
   "source": [
    "# Stock Price Prediction for the 5 Biggest Brazilian Commodity-Base Companies  \n",
    "\n",
    "<img src=\"./image.jpg\"\n",
    "\n",
    "\n",
    "## 1. Overview\n",
    "### 1.1. Motivation\n",
    "The stock price market might seems chaotic at a first glance. There is a lot of information that must be taken into account in order to decide whether to buy or not a stock. Some say that the Fundamental Analysis [1] is the right way to decide whether or not to buy a stock, and some say that the Technical Analysis[2].\n",
    "\n",
    "Based on this lack of convergence about which method should be used, and once that we can find a giant amount of data, a data science project could be a nice fit to predict the behaviour of the prices in the next day. Therefore we could use these predictions to guide the decisions.\n",
    "\n",
    "Nowadays, besides corona crises, the markets of the USA are on their historic maximum. This fact means that there is not so much place to find a share of business with good profits possibilities. Therefore, when we would like to have a bigger profit, we must take more risk and investments that fit this profile are those in emergent markets, like Brazil, India, China, etc. I’m a chemical engineer from Brazil and to use data science to understand the market behaviour for the next weeks are a topic that interests me a lot and can bring my education, my experience living here and my data science skills together.\n",
    "\n",
    "As we know, the commodity is an economic good that is often used as input the production of other goods or services. These goods have full or substantial fungibility, that is, they can be treated as equivalent (or nearly) regardless of who produced them. Some examples are coffee, gold ore, iron ore, oil, water, electric power, etc. Brazil is a land that has a commodity-based economy [3] and to be able to predict the share prices of business that work in some level with commodities, cold be an excellent opportunity for discovering bad and good calls.\n",
    "\n",
    "Besides that, nowadays there are lots of discussions about a commodity rally in 2021 [4][5][6][7]. That means, understanding the future of these goods and being able the share price of the companies or even the commodity itself like gold or silver, are key points to have success investing in Brazil.\n",
    "\n",
    "So let’s dive in the Brazilian Stock Prices of commodity-based companies, explore them and predict its prices! \n",
    "\n",
    "\n",
    "### 1.2. Problem Statement\n",
    "As mention above, our interest lay on the future share price of commodity-based companies. It gets even more dramatic with 2021 bringing the potential for a commodity rally. To predict those stock prices are a big prize.\n",
    "**Based on this, we can define that our problem is to analyse the 5 biggest commodity-based companies in Brazil in order to understand their behaviour and relationships as well to get a deeper understanding about what we are going to predict. Then, an algorithm as well its pipeline will be designed and implemented in order to predict the prices for the future.** \n",
    "\n",
    "\n",
    "### 1.3. Data and Inputs  \n",
    "The data will be gathered using the Yahoo! Finance API. A great tutorial (unfortunately only in Portuguese) can be found in this [medium post](https://medium.com/@rodrigobercinimartins/como-extrair-dados-da-bovespa-sem-gastar-nada-com-python-14a03454a720). The library yahooquery gives us all tools to colect the data as we want.  \n",
    "\n",
    "We will gather data of the 5 biggest commodity-based companies in Brazil, that are:\n",
    "- Petrobras (PETR4): largest Brazilian company, Petrobras produces oil;\n",
    "- Vale (VALE3): the company is among the largest companies in Brazil, and is the largest producer of iron ore in the world;\n",
    "- CSN (CSNA3): it is the largest steel industry in Brazil and Latin America, and one of the largest in the world;\n",
    "- JBS (JBSS3): the company is one of the largest producers of animal protein in the world;\n",
    "- Suzano (SUZB3): the company is considered the largest producer of eucalyptus pulp of the world;\n",
    "\n",
    "The data will be divided into 7 features for each day: lowest, highest, open, closed and adjusted close price, as well as volume and ticker.\n",
    "\n",
    "### 1.4. General Outline\n",
    "\n"
   ],
   "cell_type": "markdown",
   "metadata": {}
  },
  {
   "cell_type": "code",
   "execution_count": 2,
   "metadata": {},
   "outputs": [],
   "source": [
    "import pandas as pd\n",
    "from yahooquery import Ticker"
   ]
  },
  {
   "cell_type": "code",
   "execution_count": 6,
   "metadata": {},
   "outputs": [],
   "source": [
    "import tensorflow as tf\n",
    "from tensorflow import keras"
   ]
  },
  {
   "cell_type": "code",
   "execution_count": 9,
   "metadata": {},
   "outputs": [],
   "source": [
    "ptr = Ticker(\"PETR4.SA\")"
   ]
  },
  {
   "cell_type": "code",
   "execution_count": 11,
   "metadata": {},
   "outputs": [
    {
     "output_type": "execute_result",
     "data": {
      "text/plain": [
       "(29, 6)"
      ]
     },
     "metadata": {},
     "execution_count": 11
    }
   ],
   "source": [
    "ptr.history().shape"
   ]
  },
  {
   "source": [],
   "cell_type": "markdown",
   "metadata": {}
  }
 ]
}